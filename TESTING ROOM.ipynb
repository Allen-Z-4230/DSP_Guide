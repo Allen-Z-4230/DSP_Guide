{
 "cells": [
  {
   "cell_type": "code",
   "execution_count": 60,
   "metadata": {},
   "outputs": [],
   "source": [
    "import numpy as np\n",
    "import scipy as sp\n",
    "import scipy.io\n",
    "import matplotlib.pyplot as plt\n",
    "import os"
   ]
  },
  {
   "cell_type": "markdown",
   "metadata": {},
   "source": [
    "RUNNING MEAN,SD,SNR, etc."
   ]
  },
  {
   "cell_type": "code",
   "execution_count": 197,
   "metadata": {
    "scrolled": true
   },
   "outputs": [],
   "source": [
    "filename = 'emodat-Copy1.mat'\n",
    "n = 1000000\n",
    "n1=0\n",
    "file = scipy.io.loadmat(filename)\n",
    "x = file['data']\n",
    "x = x[0]\n",
    "sum = 0\n",
    "sumsquares = 0\n",
    "mean = 0\n",
    "variance = 0\n",
    "rms = 0\n",
    "for i in range(0,n):\n",
    "    n1=(n1) + 1\n",
    "    sum = sum + x[i]\n",
    "    sumsquares = sumsquares + (x[i]**2)\n",
    "    mean = sum/n1\n",
    "    variance = (sumsquares - (sum**2/n1))/(n1)\n",
    "    SD = np.sqrt(variance)\n",
    "    rms = rms + (x[i])**2\n",
    "rms = np.sqrt(rms/n)\n",
    "SNR = mean/SD\n",
    "CV = SD/mean\n"
   ]
  },
  {
   "cell_type": "code",
   "execution_count": 199,
   "metadata": {
    "scrolled": false
   },
   "outputs": [
    {
     "name": "stdout",
     "output_type": "stream",
     "text": [
      "mean:-11.441599150659473\n",
      "variance:1680.341051207319\n",
      "SD:40.99196325143892\n",
      "rms:42.55879747281037\n",
      "SNR:-0.279118106163355\n",
      "CV:-3.5827127582140665\n"
     ]
    }
   ],
   "source": [
    "plt.plot(x[0:n])\n",
    "print('mean:{0}\\nvariance:{1}\\nSD:{2}\\nrms:{3}\\nSNR:{4}\\nCV:{5}'.format(mean,variance,SD,rms,SNR,CV))"
   ]
  },
  {
   "cell_type": "code",
   "execution_count": 196,
   "metadata": {},
   "outputs": [
    {
     "data": {
      "image/png": "[encoded data removed]",
      "text/plain": [
       "<Figure size 432x288 with 1 Axes>"
      ]
     },
     "metadata": {
      "needs_background": "light"
     },
     "output_type": "display_data"
    }
   ],
   "source": [
    "xfft = np.fft.fft(x[0:n]);\n",
    "plt.plot(np.absolute(xfft));\n",
    "# need a frequency reference table for Discrete Fourier"
   ]
  },
  {
   "cell_type": "markdown",
   "metadata": {},
   "source": [
    "HISTOGRAM:"
   ]
  },
  {
   "cell_type": "code",
   "execution_count": 171,
   "metadata": {},
   "outputs": [
    {
     "name": "stdout",
     "output_type": "stream",
     "text": [
      "505\n"
     ]
    },
    {
     "data": {
      "image/png": "[encoded data removed]",
      "text/plain": [
       "<Figure size 432x288 with 1 Axes>"
      ]
     },
     "metadata": {
      "needs_background": "light"
     },
     "output_type": "display_data"
    }
   ],
   "source": [
    "xr = np.rint(x[0:n])\n",
    "max = np.amax(xr)\n",
    "min = np.amin(xr)\n",
    "hist_x = np.arange(min,max+1,1)\n",
    "hist_y = np.zeros(int(max-min)+1)\n",
    "for i in range(0,n):\n",
    "    hist_y[int(xr[i])]=hist_y[int(xr[i])]+1\n",
    "\n",
    "plt.plot(hist_x,hist_y)\n",
    "print(len(hist_x))"
   ]
  },
  {
   "cell_type": "code",
   "execution_count": 200,
   "metadata": {},
   "outputs": [
    {
     "name": "stdout",
     "output_type": "stream",
     "text": [
      "histmean:-6.384109\n",
      "histvar:47570.56580784192\n",
      "histSD:218.1067761621402\n",
      "histSNR:-0.029270566977956082\n",
      "histCV:-34.16401194937934\n"
     ]
    }
   ],
   "source": [
    "histsum = 0\n",
    "histmean = 0\n",
    "histvar = 0    \n",
    "for i in range(0,len(hist_y)):\n",
    "    histsum = histsum + (hist_x[i])*(hist_y[i])\n",
    "histmean = histsum/n\n",
    "for i in range(0,len(hist_y)):\n",
    "    histvar = histvar + (hist_y[i])*(hist_x[i]-histmean)**2\n",
    "histvar = histvar/(n-1)\n",
    "histSD = np.sqrt(histvar)\n",
    "histSNR = histmean/histSD\n",
    "histCV = histSD/histmean\n",
    "print('histmean:{0}\\nhistvar:{1}\\nhistSD:{2}\\nhistSNR:{3}\\nhistCV:{4}'.format(histmean,histvar,histSD,histSNR,histCV))"
   ]
  },
  {
   "cell_type": "code",
   "execution_count": null,
   "metadata": {},
   "outputs": [],
   "source": [
    " "
   ]
  },
  {
   "cell_type": "code",
   "execution_count": null,
   "metadata": {},
   "outputs": [],
   "source": []
  }
 ],
 "metadata": {
  "kernelspec": {
   "display_name": "Python 3",
   "language": "python",
   "name": "python3"
  },
  "language_info": {
   "codemirror_mode": {
    "name": "ipython",
    "version": 3
   },
   "file_extension": ".py",
   "mimetype": "text/x-python",
   "name": "python",
   "nbconvert_exporter": "python",
   "pygments_lexer": "ipython3",
   "version": "3.7.1"
  }
 },
 "nbformat": 4,
 "nbformat_minor": 2
}
